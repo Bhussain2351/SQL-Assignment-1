{
 "cells": [
  {
   "cell_type": "code",
   "execution_count": 1,
   "id": "5b10a8fe-fcce-47dd-b870-971452c82d02",
   "metadata": {},
   "outputs": [],
   "source": [
    "#A database is an organized collection of structured information, or data, typically stored electronically in a computer system.\n",
    "#A database is usually controlled by a database management system (DBMS)."
   ]
  },
  {
   "cell_type": "code",
   "execution_count": 2,
   "id": "c73eb781-7533-46d9-9390-4e58b7abb4d1",
   "metadata": {},
   "outputs": [],
   "source": [
    "# # SQL databases are primarily called Relational Databases (RDBMS); \n",
    "# # whereas NoSQL databases are primarily called non-relational or distributed databases.\n",
    "\n",
    "# The five critical differences between SQL and NoSQL are:\n",
    "\n",
    "# SQL databases are relational, and NoSQL databases are non-relational.\n",
    "# SQL databases use structured query language (SQL) and have a predefined schema. NoSQL databases have dynamic schemas for unstructured data.\n",
    "# SQL databases are vertically scalable, while NoSQL databases are horizontally scalable.\n",
    "# SQL databases are table-based, while NoSQL databases are document, key-value, graph, or wide-column stores.\n",
    "# SQL databases are better for multi-row transactions, while NoSQL is better for unstructured data like documents or JSON."
   ]
  },
  {
   "cell_type": "code",
   "execution_count": 3,
   "id": "e7d86c7d-8460-4883-b016-0976ba372079",
   "metadata": {},
   "outputs": [],
   "source": [
    "# Data Definition Language (DDL) is used to create and modify the structure of objects in a database using predefined commands and a specific syntax. \n",
    "# These database objects include tables, sequences, locations, aliases, schemas and indexes."
   ]
  },
  {
   "cell_type": "code",
   "execution_count": 4,
   "id": "e7b3db3d-bc6d-4a1f-8ea1-f0c97eed50c9",
   "metadata": {},
   "outputs": [],
   "source": [
    "#The CREATE TABLE command creates a new table in the database.\n",
    "\n",
    "#The DROP TABLE command deletes a table in the database.\n",
    "\n",
    "#The ALTER TABLE command adds, deletes, or modifies columns in a table.\n",
    "\n",
    "#The ALTER TABLE command also adds and deletes various constraints in a table.\n",
    "\n",
    "#The TRUNCATE TABLE command deletes the data inside a table, but not the table itself."
   ]
  },
  {
   "cell_type": "code",
   "execution_count": 6,
   "id": "3e219f24-3723-4796-b855-82ad2aa0eecd",
   "metadata": {},
   "outputs": [],
   "source": [
    "# # A DML (data manipulation language) refers to a computer programming language that allows you to add (insert), \n",
    "# delete (delete), and alter (update) data in a database. A DML is typically a sublanguage of a larger \n",
    "# database language like SQL, with the DML containing some of the language's operators.\n"
   ]
  },
  {
   "cell_type": "code",
   "execution_count": 7,
   "id": "7c9952b0-0fa6-4265-b3fd-0b119e8f9b94",
   "metadata": {},
   "outputs": [],
   "source": [
    "# Using the INSERT DML command, you can add rows to a table that exists in your database."
   ]
  },
  {
   "cell_type": "code",
   "execution_count": null,
   "id": "6eaebe26-b908-4830-bfff-aa8ebddb7ae0",
   "metadata": {},
   "outputs": [],
   "source": [
    "# Use the UPDATE statement to change data values in one or more columns, usually based on specific criteria.\n",
    "\n",
    "# Delete is a DML or Data Manipulation Command that is used to delete particular records from a table."
   ]
  },
  {
   "cell_type": "code",
   "execution_count": 8,
   "id": "8cd64e9c-2c3b-4555-8847-86b3abe825f8",
   "metadata": {},
   "outputs": [],
   "source": [
    "# Query languages, often known as DQLs or Data Query Languages, are computer languages\n",
    "# that are used to make various queries in information systems and databases."
   ]
  },
  {
   "cell_type": "code",
   "execution_count": null,
   "id": "a9f52fe0-3d7f-4e3e-baec-46c8706c71c4",
   "metadata": {},
   "outputs": [],
   "source": [
    "# The most common and important DQL command is the SELECT statement.\n",
    "# The SELECT statement allows you to specify the columns and expressions that you want to display in the result set"
   ]
  },
  {
   "cell_type": "code",
   "execution_count": null,
   "id": "d6aee90a-b5ad-43c5-8686-c9aebcdbec62",
   "metadata": {},
   "outputs": [],
   "source": [
    "# Primary keys serve as unique identifiers for each row in a database table.\n",
    "# Foreign keys link data in one table to the data in another table."
   ]
  },
  {
   "cell_type": "code",
   "execution_count": 2,
   "id": "0a7e3b0a-8d79-476e-a150-d2cb13323a63",
   "metadata": {},
   "outputs": [],
   "source": [
    "# import mysql.connector\n",
    "\n",
    "# mydb= mysql.connector.connect(\n",
    "# host=\"localhost\"\n",
    "# user=\"abc\"\n",
    "# password=\"password\"\n",
    "# )\n",
    "\n",
    "# mycursor=mydb.cursor()\n",
    "\n",
    "# mycursor.execute(\"SHOW DATABASE\")\n",
    "\n",
    "# for x in mycursor:\n",
    "#    print(x)"
   ]
  },
  {
   "cell_type": "code",
   "execution_count": 3,
   "id": "f1154522-6f89-4d70-9006-890c21665df8",
   "metadata": {},
   "outputs": [],
   "source": [
    "# Cursor Method\n",
    "\n",
    "#class cursor. Allows Python code to execute PostgreSQL command in a database session. \n",
    "#Cursors are created by the connection. cursor() method: they are bound to the connection for the entire lifetime and all \n",
    "#the commands are executed in the context of the database session wrapped by the connection."
   ]
  },
  {
   "cell_type": "code",
   "execution_count": null,
   "id": "a67c39e9-087f-4ca4-b9cb-91163e6fcb2c",
   "metadata": {},
   "outputs": [],
   "source": [
    "# Execute Method\n",
    "\n",
    "# execute() function retrieves rows from the select query on a dataset. The cursor. fetchone() function\n",
    "# iterates over the result set returned by cursor. execute() \n",
    "# while the print() function prints out all records from the table to the console."
   ]
  },
  {
   "cell_type": "code",
   "execution_count": null,
   "id": "13a1d2f0-c130-4a78-861e-6685c8af318e",
   "metadata": {},
   "outputs": [],
   "source": [
    "# The order in which the clauses in queries are executed is as follows.\n",
    "# FROM/JOIN. The FROM and/or JOIN clauses are executed first to determine the data of interest.\n",
    "# WHERE. The WHERE clause is executed to filter out records that do not meet the constraints.\n",
    "# GROUP BY. ...\n",
    "# HAVING. ...\n",
    "# SELECT. ...\n",
    "# ORDER BY. ...\n",
    "# LIMIT/OFFSET."
   ]
  }
 ],
 "metadata": {
  "kernelspec": {
   "display_name": "Python 3 (ipykernel)",
   "language": "python",
   "name": "python3"
  },
  "language_info": {
   "codemirror_mode": {
    "name": "ipython",
    "version": 3
   },
   "file_extension": ".py",
   "mimetype": "text/x-python",
   "name": "python",
   "nbconvert_exporter": "python",
   "pygments_lexer": "ipython3",
   "version": "3.10.8"
  }
 },
 "nbformat": 4,
 "nbformat_minor": 5
}
